{
 "cells": [
  {
   "cell_type": "code",
   "execution_count": 1,
   "metadata": {},
   "outputs": [],
   "source": [
    "import cv2 as cv\n",
    "import numpy as np"
   ]
  },
  {
   "cell_type": "code",
   "execution_count": 2,
   "metadata": {},
   "outputs": [],
   "source": [
    "img_fn = [\"2/img-1.tif\", \"2/img-2.tif\", \"2/img-3.tif\", \"2/img-4.tif\", \"2/img-5.tif\", \"2/img-6.tif\", \"2/img-7.tif\", \"2/img-8.tif\", \"2/img-9.tif\"]\n",
    "img_list = [cv.imread(fn) for fn in img_fn]\n",
    "exposure_times = np.array([(1/8000), (1/4000), (1/2000), (1/1000), (1/500), (1/250), (1/125), (1/60), (1/30)], dtype=np.float32)"
   ]
  },
  {
   "cell_type": "markdown",
   "metadata": {},
   "source": [
    "### Register images"
   ]
  },
  {
   "cell_type": "code",
   "execution_count": null,
   "metadata": {},
   "outputs": [
    {
     "name": "stdout",
     "output_type": "stream",
     "text": [
      "Working on 1 of 9\n",
      "Working on 2 of 9\n",
      "Working on 3 of 9\n",
      "Working on 4 of 9\n",
      "Working on 5 of 9\n",
      "Working on 6 of 9\n",
      "Working on 7 of 9\n",
      "Working on 8 of 9\n"
     ]
    }
   ],
   "source": [
    "gray = [cv.cvtColor(img, cv.COLOR_RGB2GRAY) for img in img_list]\n",
    "norm = [cv.equalizeHist(test) for test in gray]\n",
    "warp_mode = cv.MOTION_EUCLIDEAN\n",
    "criteria = (cv.TERM_CRITERIA_EPS | cv.TERM_CRITERIA_COUNT, 100, 1e-10)\n",
    "\n",
    "output = []\n",
    "for i in range(len(norm) - 1):\n",
    "    print(\"Working on \" + str(i+ 1) + \" of \" + str(len(norm) - 1))\n",
    "    warp_matrix = np.eye(2, 3, dtype=np.float32)\n",
    "    (_, warp_matrix) = cv.findTransformECC(norm[i+1], norm[0], warp_matrix, warp_mode, criteria)\n",
    "    aligned_image = cv.warpAffine(img_list[i+1], warp_matrix[:2], (img_list[i+1].shape[1], img_list[i+1].shape[0]), flags=cv.INTER_LINEAR + cv.WARP_INVERSE_MAP)\n",
    "\n",
    "    output += [aligned_image]"
   ]
  },
  {
   "cell_type": "code",
   "execution_count": 4,
   "metadata": {},
   "outputs": [],
   "source": [
    "registered = [img.astype('uint8') for img in output]"
   ]
  },
  {
   "cell_type": "code",
   "execution_count": 21,
   "metadata": {},
   "outputs": [],
   "source": [
    "test = [img_list[0]] + output"
   ]
  },
  {
   "cell_type": "code",
   "execution_count": 22,
   "metadata": {},
   "outputs": [],
   "source": [
    "merge_debevec = cv.createMergeDebevec()\n",
    "hdr_debevec = merge_debevec.process(test, times=exposure_times.copy())"
   ]
  },
  {
   "cell_type": "code",
   "execution_count": 23,
   "metadata": {},
   "outputs": [],
   "source": [
    "tonemap1 = cv.createTonemap(gamma=2.2)\n",
    "res_debevec = tonemap1.process(hdr_debevec.copy())"
   ]
  },
  {
   "cell_type": "code",
   "execution_count": 24,
   "metadata": {},
   "outputs": [
    {
     "name": "stderr",
     "output_type": "stream",
     "text": [
      "C:\\Users\\Alex\\AppData\\Local\\Temp\\ipykernel_31188\\2826973509.py:1: RuntimeWarning: invalid value encountered in cast\n",
      "  res_debevec_8bit = np.clip(res_debevec*255, 0, 255).astype('uint8')\n"
     ]
    }
   ],
   "source": [
    "res_debevec_8bit = np.clip(res_debevec*255, 0, 255).astype('uint8')"
   ]
  },
  {
   "cell_type": "code",
   "execution_count": null,
   "metadata": {},
   "outputs": [],
   "source": []
  },
  {
   "cell_type": "code",
   "execution_count": 25,
   "metadata": {},
   "outputs": [
    {
     "data": {
      "text/plain": [
       "True"
      ]
     },
     "execution_count": 25,
     "metadata": {},
     "output_type": "execute_result"
    }
   ],
   "source": [
    "cv.imwrite(\"ldr_debevec.jpg\",\n",
    " res_debevec_8bit)"
   ]
  }
 ],
 "metadata": {
  "kernelspec": {
   "display_name": ".conda",
   "language": "python",
   "name": "python3"
  },
  "language_info": {
   "codemirror_mode": {
    "name": "ipython",
    "version": 3
   },
   "file_extension": ".py",
   "mimetype": "text/x-python",
   "name": "python",
   "nbconvert_exporter": "python",
   "pygments_lexer": "ipython3",
   "version": "3.12.8"
  }
 },
 "nbformat": 4,
 "nbformat_minor": 2
}
