{
 "cells": [
  {
   "cell_type": "code",
   "execution_count": 1,
   "metadata": {},
   "outputs": [],
   "source": [
    "import cv2 as cv\n",
    "import numpy as np"
   ]
  },
  {
   "cell_type": "code",
   "execution_count": 2,
   "metadata": {},
   "outputs": [],
   "source": [
    "img_fn = [\"data/2/img-1.tif\", \"data/2/img-2.tif\", \"data/2/img-3.tif\", \"data/2/img-4.tif\", \"data/2/img-5.tif\", \"data/2/img-6.tif\", \"data/2/img-7.tif\", \"data/2/img-8.tif\", \"data/2/img-9.tif\"]\n",
    "img_list = [cv.imread(fn) for fn in img_fn]\n",
    "exposure_times = np.array([(1/8000), (1/4000), (1/2000), (1/1000), (1/500), (1/250), (1/125), (1/60), (1/30)], dtype=np.float32)"
   ]
  },
  {
   "cell_type": "markdown",
   "metadata": {},
   "source": [
    "### Register images"
   ]
  },
  {
   "cell_type": "code",
   "execution_count": 3,
   "metadata": {},
   "outputs": [
    {
     "name": "stdout",
     "output_type": "stream",
     "text": [
      "1\n"
     ]
    },
    {
     "ename": "KeyboardInterrupt",
     "evalue": "",
     "output_type": "error",
     "traceback": [
      "\u001b[1;31m---------------------------------------------------------------------------\u001b[0m",
      "\u001b[1;31mKeyboardInterrupt\u001b[0m                         Traceback (most recent call last)",
      "Cell \u001b[1;32mIn[3], line 12\u001b[0m\n\u001b[0;32m     10\u001b[0m detector \u001b[38;5;241m=\u001b[39m cv\u001b[38;5;241m.\u001b[39mAKAZE_create()\n\u001b[0;32m     11\u001b[0m kp1, des1 \u001b[38;5;241m=\u001b[39m detector\u001b[38;5;241m.\u001b[39mdetectAndCompute(img1, \u001b[38;5;28;01mNone\u001b[39;00m)\n\u001b[1;32m---> 12\u001b[0m kp2, des2 \u001b[38;5;241m=\u001b[39m detector\u001b[38;5;241m.\u001b[39mdetectAndCompute(img2, \u001b[38;5;28;01mNone\u001b[39;00m)\n\u001b[0;32m     14\u001b[0m bf \u001b[38;5;241m=\u001b[39m cv\u001b[38;5;241m.\u001b[39mBFMatcher(cv\u001b[38;5;241m.\u001b[39mNORM_HAMMING, crossCheck \u001b[38;5;241m=\u001b[39m \u001b[38;5;28;01mTrue\u001b[39;00m)\n\u001b[0;32m     15\u001b[0m matches \u001b[38;5;241m=\u001b[39m bf\u001b[38;5;241m.\u001b[39mmatch(des1, des2)\n",
      "\u001b[1;31mKeyboardInterrupt\u001b[0m: "
     ]
    }
   ],
   "source": [
    "gray = [cv.cvtColor(img, cv.COLOR_RGB2GRAY) for img in img_list]\n",
    "norm = [cv.equalizeHist(test) for test in gray]\n",
    "img1 = norm[0]\n",
    "\n",
    "output = [img_list[0]]\n",
    "for i in range(1, len(norm)):\n",
    "    print(i)\n",
    "    img2 = norm[i]\n",
    "\n",
    "    detector = cv.AKAZE_create()\n",
    "    kp1, des1 = detector.detectAndCompute(img1, None)\n",
    "    kp2, des2 = detector.detectAndCompute(img2, None)\n",
    "\n",
    "    bf = cv.BFMatcher(cv.NORM_HAMMING, crossCheck = True)\n",
    "    matches = bf.match(des1, des2)\n",
    "\n",
    "    matches = sorted(matches, key = lambda x: x.distance)\n",
    "\n",
    "    num_good_matches = int(len(matches) * 0.75)\n",
    "    matches = matches[:max(num_good_matches, 10)]\n",
    "\n",
    "    pts1 = np.float32([kp1[m.queryIdx].pt for m in matches]).reshape(-1, 2)\n",
    "    pts2 = np.float32([kp2[m.trainIdx].pt for m in matches]).reshape(-1, 2)\n",
    "\n",
    "    transformation_matrix, inliers = cv.findHomography(\n",
    "                pts2, pts1, method=cv.RANSAC, ransacReprojThreshold=3.0, confidence=0.99\n",
    "            )\n",
    "\n",
    "    aligned_img = cv.warpPerspective(\n",
    "                img_list[i], \n",
    "                transformation_matrix, \n",
    "                (img1.shape[1], img1.shape[0]),\n",
    "                flags=cv.INTER_LINEAR\n",
    "            )\n",
    "    output += [aligned_img]"
   ]
  },
  {
   "cell_type": "code",
   "execution_count": null,
   "metadata": {},
   "outputs": [],
   "source": [
    "merge_debevec = cv.createMergeDebevec()\n",
    "hdr_debevec = merge_debevec.process(output, times=exposure_times.copy())"
   ]
  },
  {
   "cell_type": "code",
   "execution_count": null,
   "metadata": {},
   "outputs": [],
   "source": [
    "tonemap1 = cv.createTonemap(gamma=2.2)\n",
    "res_debevec = tonemap1.process(hdr_debevec.copy())"
   ]
  },
  {
   "cell_type": "code",
   "execution_count": null,
   "metadata": {},
   "outputs": [
    {
     "name": "stderr",
     "output_type": "stream",
     "text": [
      "C:\\Users\\Alex\\AppData\\Local\\Temp\\ipykernel_37012\\2826973509.py:1: RuntimeWarning: invalid value encountered in cast\n",
      "  res_debevec_8bit = np.clip(res_debevec*255, 0, 255).astype('uint8')\n"
     ]
    }
   ],
   "source": [
    "res_debevec_8bit = np.clip(res_debevec*255, 0, 255).astype('uint8')"
   ]
  },
  {
   "cell_type": "code",
   "execution_count": null,
   "metadata": {},
   "outputs": [
    {
     "data": {
      "text/plain": [
       "True"
      ]
     },
     "execution_count": 14,
     "metadata": {},
     "output_type": "execute_result"
    }
   ],
   "source": [
    "cv.imwrite(\"ldr_debevec.jpg\",\n",
    " res_debevec_8bit)"
   ]
  },
  {
   "cell_type": "code",
   "execution_count": null,
   "metadata": {},
   "outputs": [],
   "source": [
    "for i in range(len(output)):\n",
    "    cv.imwrite(str(i) + \".png\", output[i])"
   ]
  }
 ],
 "metadata": {
  "kernelspec": {
   "display_name": ".conda",
   "language": "python",
   "name": "python3"
  },
  "language_info": {
   "codemirror_mode": {
    "name": "ipython",
    "version": 3
   },
   "file_extension": ".py",
   "mimetype": "text/x-python",
   "name": "python",
   "nbconvert_exporter": "python",
   "pygments_lexer": "ipython3",
   "version": "3.12.8"
  }
 },
 "nbformat": 4,
 "nbformat_minor": 2
}
