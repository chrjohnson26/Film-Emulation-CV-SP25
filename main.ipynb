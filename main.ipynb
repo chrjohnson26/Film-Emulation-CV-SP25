{
 "cells": [
  {
   "cell_type": "code",
   "execution_count": 36,
   "metadata": {},
   "outputs": [],
   "source": [
    "import cv2 as cv\n",
    "import numpy as np\n",
    "import matplotlib.pyplot as plt\n",
    "import random"
   ]
  },
  {
   "cell_type": "code",
   "execution_count": 8,
   "metadata": {},
   "outputs": [],
   "source": [
    "def minbbox(element):\n",
    "    \"\"\"\n",
    "    Takes in a binary mask and returns a minimal bounding box around\n",
    "    the non-zero elements.\n",
    "    Input:\n",
    "    - mask: a mask image (should contain only 0 and non-zero elements)\n",
    "    Returns:\n",
    "    - bbox: a list of four points in the form: [min_x, min_y, max_x, max_y]\n",
    "    \"\"\"\n",
    "\n",
    "    vals = np.nonzero(element)\n",
    "    min_h = vals[0].min()\n",
    "    max_h = vals[0].max()\n",
    "    min_w = vals[1].min()\n",
    "    max_w = vals[1].max()\n",
    "\n",
    "    return [min_w, min_h, max_w, max_h]"
   ]
  },
  {
   "cell_type": "code",
   "execution_count": 9,
   "metadata": {},
   "outputs": [],
   "source": [
    "offset = 300"
   ]
  },
  {
   "cell_type": "code",
   "execution_count": 10,
   "metadata": {},
   "outputs": [],
   "source": [
    "img_fn = [\"data/2/img-1.tif\", \"data/2/img-2.tif\", \"data/2/img-3.tif\", \"data/2/img-4.tif\", \"data/2/img-5.tif\", \"data/2/img-6.tif\", \"data/2/img-7.tif\", \"data/2/img-8.tif\", \"data/2/img-9.tif\"]\n",
    "img_list = [cv.imread(fn) for fn in img_fn]\n",
    "exposure_times = np.array([(1/8000), (1/4000), (1/2000), (1/1000), (1/500), (1/250), (1/125), (1/60), (1/30)], dtype=np.float32)\n",
    "\n",
    "log_exposure = [np.log(x) for x in exposure_times]"
   ]
  },
  {
   "cell_type": "markdown",
   "metadata": {},
   "source": [
    "### Register images"
   ]
  },
  {
   "cell_type": "code",
   "execution_count": null,
   "metadata": {},
   "outputs": [
    {
     "name": "stdout",
     "output_type": "stream",
     "text": [
      "1\n",
      "2\n",
      "3\n",
      "4\n",
      "5\n",
      "6\n",
      "7\n",
      "8\n"
     ]
    }
   ],
   "source": [
    "gray = [cv.cvtColor(img, cv.COLOR_RGB2GRAY) for img in img_list]\n",
    "norm = [cv.equalizeHist(test) for test in gray]\n",
    "img1 = norm[0]\n",
    "\n",
    "\n",
    "output = [img_list[0]]\n",
    "for i in range(1, len(norm)):\n",
    "    print(i)\n",
    "    img2 = norm[i]\n",
    "\n",
    "    detector = cv.AKAZE_create()\n",
    "    kp1, des1 = detector.detectAndCompute(img1, None)\n",
    "    kp2, des2 = detector.detectAndCompute(img2, None)\n",
    "\n",
    "    bf = cv.BFMatcher(cv.NORM_HAMMING, crossCheck = True)\n",
    "    matches = bf.match(des1, des2)\n",
    "\n",
    "    matches = sorted(matches, key = lambda x: x.distance)\n",
    "\n",
    "    num_good_matches = int(len(matches) * 0.75)\n",
    "    matches = matches[:max(num_good_matches, 10)]\n",
    "\n",
    "    pts1 = np.float32([kp1[m.queryIdx].pt for m in matches]).reshape(-1, 2)\n",
    "    pts2 = np.float32([kp2[m.trainIdx].pt for m in matches]).reshape(-1, 2)\n",
    "\n",
    "    transformation_matrix, inliers = cv.findHomography(\n",
    "                pts2, pts1, method=cv.RANSAC, ransacReprojThreshold=3.0, confidence=0.99\n",
    "            )\n",
    "\n",
    "    aligned_img = cv.warpPerspective(\n",
    "                img_list[i], \n",
    "                transformation_matrix, \n",
    "                (img1.shape[1], img1.shape[0]),\n",
    "                flags=cv.INTER_LINEAR\n",
    "            )\n",
    "    output += [aligned_img]\n"
   ]
  },
  {
   "cell_type": "code",
   "execution_count": 21,
   "metadata": {},
   "outputs": [],
   "source": [
    "masks = []\n",
    "for img in output:\n",
    "    minw, minh, maxw, maxh = minbbox(img)\n",
    "    h, w, _ = img.shape\n",
    "    mask = np.zeros((h,w), dtype='uint8')\n",
    "    mask[minh:maxh, minw:maxw] = np.ones(((maxh-minh), (maxw-minw)), dtype='uint8')\n",
    "    masks += [mask]\n",
    "\n",
    "joined = masks[0]\n",
    "for mask in masks[1:]:\n",
    "    joined = np.logical_and(joined, mask)\n",
    "minw, minh, maxw, maxh = minbbox(joined)\n",
    "\n",
    "minw = minw + int(offset / 2)\n",
    "maxw = maxw - int(offset / 2)\n",
    "minh = minh + int(offset / 2)\n",
    "maxh = maxh - int(offset / 2)\n",
    "\n",
    "cropped = []\n",
    "for el in output:\n",
    "    cropped += [el[minh:maxh, minw:maxw]]"
   ]
  },
  {
   "cell_type": "code",
   "execution_count": 37,
   "metadata": {},
   "outputs": [],
   "source": [
    "num_samples = 100\n",
    "samples = [(random.randint(0, cropped[0].shape[0]), random.randint(0, cropped[0].shape[1])) for _ in range(num_samples)]\n",
    "\n",
    "red = [img[:,:,0] for img in cropped]\n",
    "green = [img[:,:,1] for img in cropped]\n",
    "blue = [img[:,:,2] for img in cropped]"
   ]
  },
  {
   "cell_type": "code",
   "execution_count": 39,
   "metadata": {},
   "outputs": [],
   "source": [
    "redsample = np.zeros((num_samples, len(cropped)))\n",
    "for j in range(len(cropped)):\n",
    "    for i in range(len(samples)):\n",
    "        redsample[i,j] = red[j][samples[i][0], samples[i][1]]\n",
    "\n",
    "greensample = np.zeros((num_samples, len(cropped)))\n",
    "for j in range(len(cropped)):\n",
    "    for i in range(len(samples)):\n",
    "        greensample[i,j] = green[j][samples[i][0], samples[i][1]]\n",
    "\n",
    "bluesample = np.zeros((num_samples, len(cropped)))\n",
    "for j in range(len(cropped)):\n",
    "    for i in range(len(samples)):\n",
    "        bluesample[i,j] = blue[j][samples[i][0], samples[i][1]]"
   ]
  },
  {
   "cell_type": "code",
   "execution_count": 40,
   "metadata": {},
   "outputs": [],
   "source": [
    "def gsolve(Z, B, l, w, midval):\n",
    "    \"\"\"\n",
    "    Solve for imaging system response function.\n",
    "    \n",
    "    Given a set of pixel values observed for several pixels in several\n",
    "    images with different exposure times, this function returns the\n",
    "    imaging system's response function g as well as the log film irradiance\n",
    "    values for the observed pixels.\n",
    "    \n",
    "    Assumes:\n",
    "    - Zmin = 0\n",
    "    - Zmax = 255\n",
    "    \n",
    "    Parameters:\n",
    "    - Z: array of pixel values, Z[i,j] is the pixel value at location i in image j\n",
    "    - B: array of log delta t (shutter speeds), B[j] for image j\n",
    "    - l: lambda, the constant that determines the amount of smoothness\n",
    "    - w: weighting function or array, w[z] gives the weight for pixel value z\n",
    "    \n",
    "    Returns:\n",
    "    - g: log exposure corresponding to pixel value z\n",
    "    - lE: log film irradiance at pixel location i\n",
    "    \"\"\"\n",
    "    n = 256\n",
    "    \n",
    "\n",
    "    A = np.zeros((Z.shape[0] * Z.shape[1] + n + 1, n + Z.shape[0]))\n",
    "    b = np.zeros((A.shape[0], 1))\n",
    "    \n",
    "\n",
    "    k = 0 \n",
    "    for i in range(Z.shape[0]):\n",
    "        for j in range(Z.shape[1]):\n",
    "            z_val = Z[i, j]\n",
    "            wij = w(z_val)\n",
    "            A[k, int(z_val)] = wij\n",
    "            A[k, n + i] = -wij\n",
    "            b[k, 0] = wij * B[j]  \n",
    "            k += 1\n",
    "    \n",
    "\n",
    "    A[k, midval] = 1  # Middle value for 0-indexed array (256/2)\n",
    "    k += 1\n",
    "    \n",
    "    for i in range(n - 2):\n",
    "\n",
    "        wval = w(i + 1)\n",
    "\n",
    "        \n",
    "        A[k, i] = l * wval\n",
    "        A[k, i + 1] = -2 * l * wval\n",
    "        A[k, i + 2] = l * wval\n",
    "        k += 1\n",
    "    \n",
    "    x = np.linalg.lstsq(A, b, rcond=None)[0]\n",
    "\n",
    "    g = x[:n].flatten()\n",
    "    lE = x[n:].flatten()\n",
    "    \n",
    "    return g, lE"
   ]
  },
  {
   "cell_type": "code",
   "execution_count": 41,
   "metadata": {},
   "outputs": [],
   "source": [
    "def weight_function(z, z_min=0, z_max=255):\n",
    "    \"\"\"\n",
    "    Implements the triangular weighting function as described in the equation:\n",
    "    \n",
    "    w(z) = {\n",
    "        z - z_min       for z <= (z_min + z_max)/2\n",
    "        z_max - z       for z > (z_min + z_max)/2\n",
    "    }\n",
    "\n",
    "    \"\"\"\n",
    "    mid_point = 0.5 * (z_min + z_max)\n",
    "    \n",
    "    if np.isscalar(z):\n",
    "        if z <= mid_point:\n",
    "            return z - z_min\n",
    "        else:\n",
    "            return z_max - z\n",
    "    else:\n",
    "        z = np.asarray(z)\n",
    "        weights = np.zeros_like(z, dtype=float)\n",
    "        \n",
    "        mask_lower = z <= mid_point\n",
    "        weights[mask_lower] = z[mask_lower] - z_min\n",
    "        \n",
    "        mask_upper = z > mid_point\n",
    "        weights[mask_upper] = z_max - z[mask_upper]\n",
    "        \n",
    "        return weights\n"
   ]
  },
  {
   "cell_type": "code",
   "execution_count": 26,
   "metadata": {},
   "outputs": [],
   "source": [
    "def create_radiance_map(images, g, exposure_times, weights):\n",
    "    radiance_map = np.zeros(images[0].shape)\n",
    "\n",
    "    for i in range(radiance_map.shape[0]):\n",
    "        if i % 100 == 0:\n",
    "            print(str(i) + \" of \" + str(radiance_map.shape[0]))\n",
    "        for j in range(radiance_map.shape[1]):\n",
    "            pixel_values = [images[k][i,j] for k in range(len(images))]\n",
    "            \n",
    "            # Equation 6\n",
    "            numerator = 0\n",
    "            denominator = 0\n",
    "            for k in range(len(images)):\n",
    "                w = weights(pixel_values[k])\n",
    "                numerator += w * (g[pixel_values[k]] - exposure_times[k])\n",
    "                denominator += w\n",
    "            \n",
    "            # Compute log radiance\n",
    "            if denominator > 0:\n",
    "                radiance_map[i,j] = numerator / denominator\n",
    "            else:\n",
    "                radiance_map[i,j] = g[pixel_values[0]] - exposure_times[0]\n",
    "    \n",
    "    # Convert from log space to linear space\n",
    "    radiance_map = np.exp(radiance_map)\n",
    "    return radiance_map"
   ]
  },
  {
   "cell_type": "code",
   "execution_count": 42,
   "metadata": {},
   "outputs": [],
   "source": [
    "(rg, _) = gsolve(redsample, log_exposure,20, weight_function, 160)\n",
    "(gg, _) = gsolve(greensample, log_exposure,20, weight_function, 160)\n",
    "(bg, _) = gsolve(bluesample, log_exposure,20, weight_function, 160)"
   ]
  },
  {
   "cell_type": "code",
   "execution_count": 43,
   "metadata": {},
   "outputs": [
    {
     "data": {
      "image/png": "[encoded data removed]",
      "text/plain": [
       "<Figure size 1000x600 with 1 Axes>"
      ]
     },
     "metadata": {},
     "output_type": "display_data"
    }
   ],
   "source": [
    "plt.figure(figsize=(10, 6))\n",
    "plt.plot(rg, range(256), color = \"red\")\n",
    "plt.plot(gg, range(256), color = \"green\")\n",
    "plt.plot(bg, range(256), color = \"blue\")\n",
    "plt.ylabel('Pixel Value')\n",
    "plt.xlabel('Log Exposure')\n",
    "plt.title('Camera Response Function')\n",
    "plt.grid(True)\n",
    "plt.show()"
   ]
  },
  {
   "cell_type": "code",
   "execution_count": 14,
   "metadata": {},
   "outputs": [
    {
     "name": "stdout",
     "output_type": "stream",
     "text": [
      "0 of 3694\n",
      "100 of 3694\n",
      "200 of 3694\n",
      "300 of 3694\n",
      "400 of 3694\n",
      "500 of 3694\n",
      "600 of 3694\n",
      "700 of 3694\n",
      "800 of 3694\n",
      "900 of 3694\n",
      "1000 of 3694\n",
      "1100 of 3694\n",
      "1200 of 3694\n",
      "1300 of 3694\n",
      "1400 of 3694\n",
      "1500 of 3694\n",
      "1600 of 3694\n",
      "1700 of 3694\n",
      "1800 of 3694\n",
      "1900 of 3694\n",
      "2000 of 3694\n",
      "2100 of 3694\n",
      "2200 of 3694\n",
      "2300 of 3694\n",
      "2400 of 3694\n",
      "2500 of 3694\n",
      "2600 of 3694\n",
      "2700 of 3694\n",
      "2800 of 3694\n",
      "2900 of 3694\n",
      "3000 of 3694\n",
      "3100 of 3694\n",
      "3200 of 3694\n",
      "3300 of 3694\n",
      "3400 of 3694\n",
      "3500 of 3694\n",
      "3600 of 3694\n",
      "0 of 3694\n",
      "100 of 3694\n",
      "200 of 3694\n",
      "300 of 3694\n",
      "400 of 3694\n",
      "500 of 3694\n",
      "600 of 3694\n",
      "700 of 3694\n",
      "800 of 3694\n",
      "900 of 3694\n",
      "1000 of 3694\n",
      "1100 of 3694\n",
      "1200 of 3694\n",
      "1300 of 3694\n",
      "1400 of 3694\n",
      "1500 of 3694\n",
      "1600 of 3694\n",
      "1700 of 3694\n",
      "1800 of 3694\n",
      "1900 of 3694\n",
      "2000 of 3694\n",
      "2100 of 3694\n",
      "2200 of 3694\n",
      "2300 of 3694\n",
      "2400 of 3694\n",
      "2500 of 3694\n",
      "2600 of 3694\n",
      "2700 of 3694\n",
      "2800 of 3694\n",
      "2900 of 3694\n",
      "3000 of 3694\n",
      "3100 of 3694\n",
      "3200 of 3694\n",
      "3300 of 3694\n",
      "3400 of 3694\n",
      "3500 of 3694\n",
      "3600 of 3694\n",
      "0 of 3694\n",
      "100 of 3694\n",
      "200 of 3694\n",
      "300 of 3694\n",
      "400 of 3694\n",
      "500 of 3694\n",
      "600 of 3694\n",
      "700 of 3694\n",
      "800 of 3694\n",
      "900 of 3694\n",
      "1000 of 3694\n",
      "1100 of 3694\n",
      "1200 of 3694\n",
      "1300 of 3694\n",
      "1400 of 3694\n",
      "1500 of 3694\n",
      "1600 of 3694\n",
      "1700 of 3694\n",
      "1800 of 3694\n",
      "1900 of 3694\n",
      "2000 of 3694\n",
      "2100 of 3694\n",
      "2200 of 3694\n",
      "2300 of 3694\n",
      "2400 of 3694\n",
      "2500 of 3694\n",
      "2600 of 3694\n",
      "2700 of 3694\n",
      "2800 of 3694\n",
      "2900 of 3694\n",
      "3000 of 3694\n",
      "3100 of 3694\n",
      "3200 of 3694\n",
      "3300 of 3694\n",
      "3400 of 3694\n",
      "3500 of 3694\n",
      "3600 of 3694\n"
     ]
    }
   ],
   "source": [
    "rr = create_radiance_map(red, rg, log_exposure, weight_function)\n",
    "gr = create_radiance_map(green, gg, log_exposure, weight_function)\n",
    "br = create_radiance_map(blue, bg, log_exposure, weight_function)"
   ]
  },
  {
   "cell_type": "code",
   "execution_count": 15,
   "metadata": {},
   "outputs": [],
   "source": [
    "def simple_tonemap(radiance_map):\n",
    "\n",
    "    log_map = np.log(1 + radiance_map)\n",
    "    \n",
    "    normalized = (log_map - np.min(log_map)) / (np.max(log_map) - np.min(log_map))\n",
    "\n",
    "    return (normalized * 255).astype(np.uint8)"
   ]
  },
  {
   "cell_type": "code",
   "execution_count": null,
   "metadata": {},
   "outputs": [],
   "source": [
    "test = np.zeros((rt.shape[0], rt.shape[1], 3))\n",
    "test[:,:,0] = rr\n",
    "test[:,:,1] = gr\n",
    "test[:,:,2] = br"
   ]
  },
  {
   "cell_type": "code",
   "execution_count": 16,
   "metadata": {},
   "outputs": [],
   "source": [
    "rt = simple_tonemap(rr)\n",
    "gt = simple_tonemap(gr)\n",
    "bt = simple_tonemap(br)\n",
    "\n",
    "output = np.zeros((rt.shape[0], rt.shape[1], 3))\n",
    "output[:,:,0] = rt\n",
    "output[:,:,1] = gt\n",
    "output[:,:,2] = bt"
   ]
  },
  {
   "cell_type": "code",
   "execution_count": 17,
   "metadata": {},
   "outputs": [
    {
     "data": {
      "text/plain": [
       "True"
      ]
     },
     "execution_count": 17,
     "metadata": {},
     "output_type": "execute_result"
    }
   ],
   "source": [
    "cv.imwrite(\"ldr.jpg\", output)"
   ]
  }
 ],
 "metadata": {
  "kernelspec": {
   "display_name": ".conda",
   "language": "python",
   "name": "python3"
  },
  "language_info": {
   "codemirror_mode": {
    "name": "ipython",
    "version": 3
   },
   "file_extension": ".py",
   "mimetype": "text/x-python",
   "name": "python",
   "nbconvert_exporter": "python",
   "pygments_lexer": "ipython3",
   "version": "3.12.8"
  }
 },
 "nbformat": 4,
 "nbformat_minor": 2
}
